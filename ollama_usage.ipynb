{
 "cells": [
  {
   "cell_type": "code",
   "execution_count": 7,
   "metadata": {},
   "outputs": [],
   "source": [
    "import ollama"
   ]
  },
  {
   "cell_type": "code",
   "execution_count": null,
   "metadata": {},
   "outputs": [],
   "source": [
    "# Initialize the Ollama client\n",
    "client = ollama.Client()"
   ]
  },
  {
   "cell_type": "code",
   "execution_count": 9,
   "metadata": {},
   "outputs": [],
   "source": [
    "# Define the model and the input prompt\n",
    "model = \"llama2\"  # Replace with your model name\n",
    "prompt = \"What is Python?\""
   ]
  },
  {
   "cell_type": "code",
   "execution_count": null,
   "metadata": {},
   "outputs": [],
   "source": [
    "# Send the query to the model\n",
    "response = client.generate(model=model, prompt=prompt)"
   ]
  },
  {
   "cell_type": "code",
   "execution_count": 11,
   "metadata": {},
   "outputs": [
    {
     "name": "stdout",
     "output_type": "stream",
     "text": [
      "Response from Ollama:\n",
      "\n",
      "Python is a high-level, interpreted programming language that is widely used for various purposes, including web development, scientific computing, data analysis, artificial intelligence, and more. It was created in the late 1980s by Guido van Rossum and has since become one of the most popular programming languages in the world.\n",
      "\n",
      "Here are some key features of Python:\n",
      "\n",
      "1. Interpretation: Python is an interpreted language, which means that it does not need to be compiled before it can be executed. This makes it faster to write and test code, as well as easier to debug.\n",
      "2. Simple syntax: Python has a simple syntax that is easy to read and write, making it a great language for beginners and experienced programmers alike.\n",
      "3. Object-oriented: Python is an object-oriented language, which means that it organizes code into objects that contain data and functions that operate on that data. This makes it easier to write reusable code and create complex programs.\n",
      "4. Dynamic typing: Python is a dynamically typed language, which means that it does not require explicit type declarations for variables. This makes it easier to write code and reduce the risk of errors.\n",
      "5. Large standard library: Python has a large standard library that includes modules for various tasks, such as file I/O, networking, and data structures. This means that developers can often find existing implementations of common tasks, rather than having to write their own.\n",
      "6. Extensive third-party libraries: In addition to the standard library, there are many third-party libraries available for Python, including NumPy, pandas, and scikit-learn for data analysis; Flask and Django for web development; and TensorFlow and Keras for machine learning.\n",
      "7. Cross-platform: Python can be run on a variety of platforms, including Windows, macOS, and Linux.\n",
      "8. Open source: Python is an open-source language, which means that it is free to use and distribute, and that the community can contribute to its development and evolution.\n",
      "\n",
      "Overall, Python is a versatile and powerful language that is widely used in many different areas of computer science and software development.\n"
     ]
    }
   ],
   "source": [
    "# Print the response from the model\n",
    "print(\"Response from Ollama:\")\n",
    "print(response.response)"
   ]
  }
 ],
 "metadata": {
  "kernelspec": {
   "display_name": "custom_env",
   "language": "python",
   "name": "python3"
  },
  "language_info": {
   "codemirror_mode": {
    "name": "ipython",
    "version": 3
   },
   "file_extension": ".py",
   "mimetype": "text/x-python",
   "name": "python",
   "nbconvert_exporter": "python",
   "pygments_lexer": "ipython3",
   "version": "3.12.4"
  }
 },
 "nbformat": 4,
 "nbformat_minor": 2
}
